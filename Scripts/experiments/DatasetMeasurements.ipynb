{
 "cells": [
  {
   "cell_type": "code",
   "execution_count": 1,
   "metadata": {},
   "outputs": [
    {
     "name": "stderr",
     "output_type": "stream",
     "text": [
      "-c:7: RuntimeWarning: to-Python converter for boost::function<void (cv::Mat_<double>&)> already registered; second conversion method ignored.\n",
      "-c:8: RuntimeWarning: to-Python converter for boost::shared_ptr<MBV::HandTracking::ObjectiveResultsCombination> already registered; second conversion method ignored.\n"
     ]
    },
    {
     "name": "stderr",
     "output_type": "stream",
     "text": [
      "-c:8: RuntimeWarning: to-Python converter for std::__cxx11::list<unsigned long, std::allocator<unsigned long> > already registered; second conversion method ignored.\n"
     ]
    }
   ],
   "source": [
    "import cv2\n",
    "import PyMBVCore as core\n",
    "import PyMBVDecoding as dec\n",
    "import PyMBVRendering as ren\n",
    "import PyMBVOpenMesh as mbvom\n",
    "import PyMBVAcquisition as acq\n",
    "import PyMBVParticleFilter as mpf\n",
    "import PyModel3dTracker as htpf\n",
    "import PythonModel3dTracker.PythonModelTracker.LandmarksGrabber as ldm\n",
    "import BlenderMBVLib.BlenderMBVConnection as bmc\n",
    "import BlenderMBVLib.BlenderMBVConversions as blconv\n",
    "import PythonModel3dTracker.PythonModelTracker.PFHelpers.ModelTrackingResults as mtr\n",
    "import PythonModel3dTracker.PythonModelTracker.Paths as paths\n",
    "import PythonModel3dTracker.PythonModelTracker.ModelTrackingGui as mtg\n",
    "import BlenderMBVLib.RenderingUtils as ru\n",
    "import PythonModel3dTracker.PythonModelTracker.DatasetInfo as dsi\n",
    "import os\n",
    "import PythonModel3dTracker.PythonModelTracker.DepthMapUtils as dmu\n",
    "import copy\n",
    "import numpy as np"
   ]
  },
  {
   "cell_type": "code",
   "execution_count": 6,
   "metadata": {},
   "outputs": [],
   "source": [
    "def get_point_idx(mask,p):\n",
    "    idx = 0    \n",
    "    for y in range(p[1]+1):\n",
    "        if y<p[1]:\n",
    "            x_items = rgb.shape[1]\n",
    "        else: x_items = p[0]+1\n",
    "        for x in range(x_items):\n",
    "            if mask[y][x]: idx +=1\n",
    "    return idx\n",
    "\n",
    "\n",
    "def onMouseGetPoint(event, x, y, s, user_data):\n",
    "    if event == 1:\n",
    "        depth = user_data[0]\n",
    "        rgb = user_data[1]\n",
    "        disp_depth = user_data[2]\n",
    "        points = user_data[3]\n",
    "        print('event:{0}, (x,y): ({1},{2})'.format(event,x,y))\n",
    "        cv2.rectangle(rgb, (x-1, y-1), (x+1,y+1), (255,0,0))\n",
    "        points.append([x, y, depth[y][x]])\n",
    "        print('p2d(x,y,d):',x,y,depth[y][x])\n",
    "        disp_depth[y][x]=60000\n",
    "        cv2.imshow('rgb',rgb)\n",
    "        cv2.imshow('depth',disp_depth)\n",
    "        cv2.waitKey(1)\n",
    "        \n",
    "        \n",
    "def get3dPoints(points2d,camera,depth):\n",
    "        points = []\n",
    "        for p in points2d:\n",
    "            x = p[0]\n",
    "            y = p[1]\n",
    "            mbv_points = core.Vector3fStorage()\n",
    "            point_mask = camera.PointCloud_fromDepthMap(depth, mbv_points)\n",
    "            idx = get_point_idx(point_mask,(x,y))\n",
    "            p = mbv_points[idx]\n",
    "            p_np = np.array([p.x,p.y,p.z])\n",
    "            print('3d point:',p_np )\n",
    "            points.append(p_np)\n",
    "        return points"
   ]
  },
  {
   "cell_type": "code",
   "execution_count": 3,
   "metadata": {},
   "outputs": [],
   "source": [
    "params_ds = dsi.DatasetInfo()\n",
    "params_ds.generate('checkerboard')\n",
    "grabber_auto = htpf.AutoGrabber.create(str(params_ds.format),\n",
    "                                       core.StringVector([str(s) for s in params_ds.stream_filename]),\n",
    "                                       str(params_ds.calib_filename))"
   ]
  },
  {
   "cell_type": "code",
   "execution_count": 4,
   "metadata": {},
   "outputs": [
    {
     "name": "stdout",
     "output_type": "stream",
     "text": [
      "event:1, (x,y): (258,283)\n",
      "('p2d(x,y,d):', 258, 283, 794)\n",
      "event:1, (x,y): (408,285)"
     ]
    },
    {
     "name": "stdout",
     "output_type": "stream",
     "text": [
      "\n",
      "('p2d(x,y,d):', 408, 285, 767)\n",
      "('points2d:', [[258, 283, 794], [408, 285, 767]])"
     ]
    },
    {
     "name": "stdout",
     "output_type": "stream",
     "text": [
      "\n"
     ]
    }
   ],
   "source": [
    "frame = 0\n",
    "grabber_auto.seek(frame)\n",
    "images, calibs = grabber_auto.grab()\n",
    "\n",
    "depth = images[0]\n",
    "rgb = images[1]\n",
    "disp_depth = copy.deepcopy(depth)\n",
    "cv2.imshow('depth',disp_depth)\n",
    "cv2.imshow('rgb',rgb)\n",
    "points2d = []\n",
    "cv2.setMouseCallback('rgb', onMouseGetPoint, (depth,rgb,disp_depth,points2d)) \n",
    "cv2.waitKey(0)\n",
    "print('points2d:', points2d)"
   ]
  },
  {
   "cell_type": "code",
   "execution_count": 27,
   "metadata": {},
   "outputs": [
    {
     "name": "stdout",
     "output_type": "stream",
     "text": [
      "('3d point:', array([ -84.9209671 ,   59.86231995,  794.00006104]))\n",
      "('3d point:', array([ 119.68782806,   60.51630402,  767.        ]))\n",
      "('points3d:', [array([ -84.9209671 ,   59.86231995,  794.00006104]), array([ 119.68782806,   60.51630402,  767.        ])])\n",
      "('dist:', [206.38359927657595])\n"
     ]
    }
   ],
   "source": [
    "camera = calibs[0].camera\n",
    "camera.zNear = 400\n",
    "points3d = get3dPoints(points2d,camera,depth)\n",
    "print('points3d:', points3d)\n",
    "\n",
    "dist = []\n",
    "if len(points3d) > 1:\n",
    "    for i in range(len(points3d)):\n",
    "        if i>0:\n",
    "            dist.append(np.linalg.norm(points3d[i]-points3d[i-1]))\n",
    "print('dist:',dist)"
   ]
  },
  {
   "cell_type": "code",
   "execution_count": 34,
   "metadata": {},
   "outputs": [
    {
     "name": "stdout",
     "output_type": "stream",
     "text": [
      "('points3d:', [array([ -93.01142857,   65.78857143,  794.        ]), array([ 129.29428571,   66.47333333,  767.        ])])\n"
     ]
    },
    {
     "data": {
      "text/plain": [
       "223.94039274536391"
      ]
     },
     "execution_count": 34,
     "metadata": {},
     "output_type": "execute_result"
    }
   ],
   "source": [
    "### Correct values for kinect1/xtion rgb and registered depth calibration.\n",
    "points3db = []\n",
    "fx = 525.0\n",
    "fy = 525.0\n",
    "cx = 319.5\n",
    "cy = 239.5\n",
    "\n",
    "u1 = points2d[0][0]\n",
    "v1 = points2d[0][1]\n",
    "d1 = points2d[0][2]\n",
    "u2 = points2d[1][0]\n",
    "v2 = points2d[1][1]\n",
    "d2 = points2d[1][2]\n",
    "\n",
    "z1 = d1 #/ 1000.0\n",
    "x1 = (u1 - cx) * z1 / fx\n",
    "y1= (v1 - cy) * z1 / fy\n",
    "z2 = d2 #/ 1000.0\n",
    "x2 = (u2 - cx) * z2 / fx\n",
    "y2= (v2 - cy) * z2 / fy\n",
    "p3d1 = np.array([x1, y1, z1])\n",
    "points3db.append(p3d1)\n",
    "p3d2 = np.array([x2, y2, z2])\n",
    "points3db.append(p3d2)\n",
    "print('points3d:', points3db)\n",
    "np.linalg.norm(p3d2-p3d1)"
   ]
  },
  {
   "cell_type": "code",
   "execution_count": 33,
   "metadata": {},
   "outputs": [
    {
     "name": "stdout",
     "output_type": "stream",
     "text": [
      "({'orientation': [0.0, 0.0, 0.0, 1.0], 'zFar': 10000.0, 'nearPlaneSize': [448.85333251953125, -336.6399841308594], 'perspective': True, 'position': [0.0, 0.0, 0.0], 'zNear': 400.0, 'center': [0.0, 0.0]}, {'orientation': [0.0, 0.0, 0.0, 1.0], 'zFar': 10000.0, 'nearPlaneSize': [448.85333251953125, -336.6399841308594], 'perspective': True, 'position': [0.0, 0.0, 0.0], 'zNear': 400.0, 'center': [0.0, 0.0]})\n"
     ]
    }
   ],
   "source": [
    "print(calibs[0].camera,calibs[1].camera)"
   ]
  },
  {
   "cell_type": "code",
   "execution_count": 30,
   "metadata": {},
   "outputs": [
    {
     "data": {
      "text/plain": [
       "1.1225"
      ]
     },
     "execution_count": 30,
     "metadata": {},
     "output_type": "execute_result"
    }
   ],
   "source": [
    "449./400."
   ]
  },
  {
   "cell_type": "code",
   "execution_count": null,
   "metadata": {},
   "outputs": [],
   "source": [
    ""
   ]
  }
 ],
 "metadata": {
  "name": "",
  "signature": "sha256:77ec80f31d40d67ce9fc42061ef587571b9439182ec99e73bde051ac820ebd98"
 },
 "nbformat": 4,
 "nbformat_minor": 0
}