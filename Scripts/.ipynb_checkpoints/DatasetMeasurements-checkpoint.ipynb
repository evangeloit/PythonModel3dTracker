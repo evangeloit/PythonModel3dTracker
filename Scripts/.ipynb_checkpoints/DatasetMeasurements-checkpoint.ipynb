{
 "metadata": {
  "name": "",
  "signature": "sha256:ac260c82e120a0e232271cac0981777152ec9a67e6c0a76f3ca145765becdbd7"
 },
 "nbformat": 3,
 "nbformat_minor": 0,
 "worksheets": [
  {
   "cells": [
    {
     "cell_type": "code",
     "collapsed": false,
     "input": [
      "import cv2\n",
      "import PyMBVCore as core\n",
      "import PyMBVDecoding as dec\n",
      "import PyMBVRendering as ren\n",
      "import PyMBVOpenMesh as mbvom\n",
      "import PyMBVAcquisition as acq\n",
      "import PyMBVParticleFilter as mpf\n",
      "import PyModel3dTracker as htpf\n",
      "import PythonModel3dTracker.PythonModelTracker.LandmarksGrabber as ldm\n",
      "import BlenderMBVLib.BlenderMBVConnection as bmc\n",
      "import BlenderMBVLib.BlenderMBVConversions as blconv\n",
      "import PythonModel3dTracker.PythonModelTracker.PFHelpers.ModelTrackingResults as mtr\n",
      "import PythonModel3dTracker.PythonModelTracker.Paths as paths\n",
      "import PythonModel3dTracker.PythonModelTracker.ModelTrackingGui as mtg\n",
      "import BlenderMBVLib.RenderingUtils as ru\n",
      "import PythonModel3dTracker.PythonModelTracker.DatasetInfo as dsi\n",
      "import os\n",
      "import PythonModel3dTracker.PythonModelTracker.DepthMapUtils as dmu\n",
      "import copy\n"
     ],
     "language": "python",
     "metadata": {},
     "outputs": [
      {
       "output_type": "stream",
       "stream": "stderr",
       "text": [
        "-c:7: RuntimeWarning: to-Python converter for boost::function<void (cv::Mat_<double>&)> already registered; second conversion method ignored.\n",
        "-c:8: RuntimeWarning: to-Python converter for boost::shared_ptr<MBV::HandTracking::ObjectiveResultsCombination> already registered; second conversion method ignored.\n"
       ]
      },
      {
       "output_type": "stream",
       "stream": "stderr",
       "text": [
        "-c:8: RuntimeWarning: to-Python converter for std::__cxx11::list<unsigned long, std::allocator<unsigned long> > already registered; second conversion method ignored.\n"
       ]
      }
     ],
     "prompt_number": 1
    },
    {
     "cell_type": "code",
     "collapsed": false,
     "input": [
      "def get_point_idx(mask,p):\n",
      "    idx = 0    \n",
      "    for y in range(p[1]+1):\n",
      "        if y<p[1]:\n",
      "            x_items = rgb.shape[1]\n",
      "        else: x_items = p[0]+1\n",
      "        for x in range(x_items):\n",
      "            if mask[y][x]: idx +=1\n",
      "    return idx\n",
      "\n",
      "\n",
      "def onMouseGetPoint(event, x, y, s, user_data):\n",
      "    points = []\n",
      "    for i in range(2):\n",
      "        if event == 1:\n",
      "            depth = user_data[0]\n",
      "            rgb = user_data[1]\n",
      "            disp_depth = user_data[2]\n",
      "            camera = user_data[3]\n",
      "            print('event:{0}, (x,y): ({1},{2})'.format(event,x,y))\n",
      "            cv2.rectangle(rgb, (x-1, y-1), (x+1,y+1), (255,0,0))\n",
      "            print('depth:',depth[y][x])\n",
      "\n",
      "            disp_depth[y][x]=60000\n",
      "            mbv_points = core.Vector3fStorage()\n",
      "            point_mask = camera.camera.PointCloud_fromDepthMap(depth, mbv_points)\n",
      "            idx = get_point_idx(point_mask,(x,y))\n",
      "            p = mbv_points[idx]\n",
      "            points.append(np.array([p.x,p.y,p.z]))\n",
      "            print('3d point:', )\n",
      "            cv2.imshow('rgb',rgb)\n",
      "            cv2.imshow('depth',disp_depth)\n",
      "            cv2.waitKey(1)\n",
      "    print(points)\n",
      "    dist = np.linalg.norm(points[0]-points[1])\n",
      "    print('dist:',dist)\n",
      "    "
     ],
     "language": "python",
     "metadata": {},
     "outputs": []
    },
    {
     "cell_type": "code",
     "collapsed": false,
     "input": [
      "params_ds = dsi.DatasetInfo()\n",
      "params_ds.generate('hdd')\n",
      "grabber_auto = htpf.AutoGrabber.create(str(params_ds.format),\n",
      "                                       core.StringVector([str(s) for s in params_ds.stream_filename]),\n",
      "                                       str(params_ds.calib_filename))"
     ],
     "language": "python",
     "metadata": {},
     "outputs": [],
     "prompt_number": 3
    },
    {
     "cell_type": "code",
     "collapsed": false,
     "input": [
      "frame = 100\n",
      "grabber_auto.seek(frame)\n",
      "images, calibs = grabber_auto.grab()\n",
      "depth = images[0]\n",
      "rgb = images[1]\n",
      "disp_depth = copy.deepcopy(depth)\n",
      "cv2.imshow('depth',disp_depth)\n",
      "cv2.imshow('rgb',rgb)\n",
      "cv2.setMouseCallback('rgb', onMouseGetPoint, (depth,rgb,disp_depth,calibs[0])) \n",
      "cv2.waitKey(0)"
     ],
     "language": "python",
     "metadata": {},
     "outputs": []
    },
    {
     "cell_type": "code",
     "collapsed": false,
     "input": [],
     "language": "python",
     "metadata": {},
     "outputs": []
    }
   ],
   "metadata": {}
  }
 ]
}