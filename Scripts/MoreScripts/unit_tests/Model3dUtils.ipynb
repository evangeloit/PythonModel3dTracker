{
 "metadata": {
  "name": "",
  "signature": "sha256:3a192bd0c41dc6e82f393182caf74330c5f42e1e76b50f1f27dc580a1cdad4d0"
 },
 "nbformat": 3,
 "nbformat_minor": 0,
 "worksheets": [
  {
   "cells": [
    {
     "cell_type": "code",
     "collapsed": false,
     "input": [
      "import PythonModel3dTracker.PyMBVAll as mbv\n",
      "import PythonModel3dTracker.Paths as paths\n",
      "from Models3D.Models3dDict import model3d_dict\n",
      "import PythonModel3dTracker.PythonModelTracker.LandmarksGrabber as LG"
     ],
     "language": "python",
     "metadata": {},
     "outputs": []
    },
    {
     "cell_type": "code",
     "collapsed": false,
     "input": [
      "model_name = \"mh_body_male_custom\"\n",
      "model3d = mbv.PF.Model3dMeta.create(str(model3d_dict[model_name][\"path\"]))\n",
      "model3d.parts.genBonesMap()"
     ],
     "language": "python",
     "metadata": {},
     "outputs": []
    },
    {
     "cell_type": "code",
     "collapsed": false,
     "input": [
      "lnames, landmarks = LG.GetDefaultModelLandmarks(model3d)\n",
      "for l in landmarks:\n",
      "    print l.bone_id, l.pos, l.linked_geometry, l.name, l.ref_frame\n",
      "tf = mbv.Dec.TransformNode()\n",
      "mbv.PF.LoadTransformNode(model3d.transform_node_bones_filename, tf)"
     ],
     "language": "python",
     "metadata": {},
     "outputs": []
    },
    {
     "cell_type": "code",
     "collapsed": false,
     "input": [],
     "language": "python",
     "metadata": {},
     "outputs": []
    },
    {
     "cell_type": "code",
     "collapsed": false,
     "input": [],
     "language": "python",
     "metadata": {},
     "outputs": []
    },
    {
     "cell_type": "code",
     "collapsed": false,
     "input": [],
     "language": "python",
     "metadata": {},
     "outputs": []
    },
    {
     "cell_type": "code",
     "collapsed": false,
     "input": [],
     "language": "python",
     "metadata": {},
     "outputs": []
    }
   ],
   "metadata": {}
  }
 ]
}