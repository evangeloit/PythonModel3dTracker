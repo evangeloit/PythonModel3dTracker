{
 "metadata": {
  "name": "",
  "signature": "sha256:82ce935848560ad2e744fa2cb81bdddf1119303004f2d7b32c532ba417f93539"
 },
 "nbformat": 3,
 "nbformat_minor": 0,
 "worksheets": [
  {
   "cells": [
    {
     "cell_type": "code",
     "collapsed": false,
     "input": [
      "import numpy as np\n",
      "import PythonModel3dTracker.PyMBVAll as mbv\n",
      "import PythonModel3dTracker.Paths as paths\n",
      "import PythonModel3dTracker.PythonModelTracker.LandmarksGrabber as LG\n",
      "import PythonModel3dTracker.PythonModelTracker.Model3dUtils as m3dutils"
     ],
     "language": "python",
     "metadata": {},
     "outputs": [],
     "prompt_number": 16
    },
    {
     "cell_type": "code",
     "collapsed": false,
     "input": [
      "model_name = \"mh_body_male_custom\"\n",
      "model3d = mbv.PF.Model3dMeta.create(str(paths.model3d_dict[model_name][\"path\"]))\n",
      "model3d.parts.genBonesMap()"
     ],
     "language": "python",
     "metadata": {},
     "outputs": [],
     "prompt_number": 17
    },
    {
     "cell_type": "code",
     "collapsed": false,
     "input": [
      "\n",
      "\n",
      "interpolate_set = [\"R.UArm\", \"R.LArm\",\"R.ULeg\", \"R.LLeg\",\"L.UArm\", \"L.LArm\",\"L.ULeg\", \"L.LLeg\"]\n",
      "lnames, landmarks = GetInterpModelLandmarks(model3d, interpolated_bones=interpolate_set, n_interp=2)\n",
      "for l in landmarks:\n",
      "    print l.bone_id, l.pos, l.linked_geometry, l.name, l.ref_frame\n"
     ],
     "language": "python",
     "metadata": {},
     "outputs": [
      {
       "output_type": "stream",
       "stream": "stdout",
       "text": [
        "0 [0.0, 0.0, 0.0] root root RFGeomLocal\n",
        "1 [0.0, 0.0, 0.0] R.shoulder R.shoulder RFGeomLocal\n",
        "4 [0.0, 0.0, 0.0] R.Wrist R.Wrist RFGeomLocal\n",
        "5 [0.0, 0.0, 0.0] L.shoulder L.shoulder RFGeomLocal\n",
        "8 [0.0, 0.0, 0.0] L.Wrist L.Wrist RFGeomLocal\n",
        "9 [0.0, 0.0, 0.0] R.torso R.torso RFGeomLocal\n",
        "12 [0.0, 0.0, 0.0] R.Foot R.Foot RFGeomLocal\n",
        "13 [0.0, 0.0, 0.0] L.torso L.torso RFGeomLocal\n",
        "16 [0.0, 0.0, 0.0] L.Foot L.Foot RFGeomLocal\n",
        "17 [0.0, 0.0, 0.0] neck neck RFGeomLocal\n",
        "18 [0.0, 0.0, 0.0] neck.001 neck.001 RFGeomLocal\n",
        "19 [0.0, 0.0, 0.0] Nose Nose RFGeomLocal\n",
        "20 [0.0, 0.0, 0.0] L.eye L.eye RFGeomLocal\n",
        "21 [0.0, 0.0, 0.0] R.eye R.eye RFGeomLocal\n",
        "22 [0.0, 0.0, 0.0] L.ear L.ear RFGeomLocal\n",
        "23 [0.0, 0.0, 0.0] R.ear R.ear RFGeomLocal\n",
        "2 [0.0, 0.0, 0.0] R.UArm R.UArm_00 RFGeomLocal\n",
        "2 [0.0, 137.18333435058594, 0.0] R.UArm R.UArm_01 RFGeomLocal\n",
        "3 [0.0, 0.0, 0.0] R.LArm R.LArm_00 RFGeomLocal\n",
        "3 [0.0, 137.18325805664062, 0.0] R.LArm R.LArm_01 RFGeomLocal\n",
        "10 [0.0, 0.0, 0.0] R.ULeg R.ULeg_00 RFGeomLocal\n",
        "10 [0.0, 214.0515594482422, 0.0] R.ULeg R.ULeg_01 RFGeomLocal\n",
        "11 [0.0, 0.0, 0.0] R.LLeg R.LLeg_00 RFGeomLocal\n",
        "11 [0.0, 222.78433227539062, 0.0] R.LLeg R.LLeg_01 RFGeomLocal\n",
        "6 [0.0, 0.0, 0.0] L.UArm L.UArm_00 RFGeomLocal\n",
        "6 [0.0, 140.4917755126953, 0.0] L.UArm L.UArm_01 RFGeomLocal\n",
        "7 [0.0, 0.0, 0.0] L.LArm L.LArm_00 RFGeomLocal\n",
        "7 [0.0, 140.4917449951172, 0.0] L.LArm L.LArm_01 RFGeomLocal\n",
        "14 [0.0, 0.0, 0.0] L.ULeg L.ULeg_00 RFGeomLocal\n",
        "14 [0.0, 214.0514678955078, 0.0] L.ULeg L.ULeg_01 RFGeomLocal\n",
        "15 [0.0, 0.0, 0.0] L.LLeg L.LLeg_00 RFGeomLocal\n",
        "15 [0.0, 222.7843017578125, 0.0] L.LLeg L.LLeg_01 RFGeomLocal\n"
       ]
      }
     ],
     "prompt_number": 24
    },
    {
     "cell_type": "code",
     "collapsed": false,
     "input": [
      "bone_lengths = m3dutils.GetBoneLengths(model3d)\n",
      "for b,l in bone_lengths.items(): print b, l"
     ],
     "language": "python",
     "metadata": {},
     "outputs": [
      {
       "output_type": "stream",
       "stream": "stdout",
       "text": [
        "L.LLeg 445.568603516\n",
        "L.ULeg 428.102935791\n",
        "R.LLeg 445.568664551\n",
        "R.Foot 0\n",
        "R.LArm 274.366516113\n",
        "R.eye 0\n",
        "L.shoulder 169.999969482\n",
        "R.torso 503.544433594\n",
        "L.LArm 280.98348999\n",
        "R.shoulder 169.999969482\n",
        "L.Wrist 0\n",
        "R.ULeg 428.103118896\n",
        "R.ear 0\n",
        "L.ear 0\n",
        "L.torso 503.544433594\n",
        "Nose 0\n",
        "L.UArm 280.983551025\n",
        "neck 86.3550720215\n",
        "neck.001 172.147323608\n",
        "root 0\n",
        "R.Wrist 0\n",
        "L.eye 0\n",
        "R.UArm 274.366668701\n",
        "L.Foot 0\n"
       ]
      }
     ],
     "prompt_number": 23
    },
    {
     "cell_type": "code",
     "collapsed": false,
     "input": [
      "print \"{0:02d}\".format(3)"
     ],
     "language": "python",
     "metadata": {},
     "outputs": [
      {
       "output_type": "stream",
       "stream": "stdout",
       "text": [
        "03\n"
       ]
      }
     ],
     "prompt_number": 11
    },
    {
     "cell_type": "code",
     "collapsed": false,
     "input": [],
     "language": "python",
     "metadata": {},
     "outputs": []
    },
    {
     "cell_type": "code",
     "collapsed": false,
     "input": [],
     "language": "python",
     "metadata": {},
     "outputs": []
    }
   ],
   "metadata": {}
  }
 ]
}