{
 "worksheets": [
  {
   "cells": [
    {
     "cell_type": "code",
     "execution_count": null,
     "metadata": {},
     "outputs": [
      {
       "prompt_number": 1,
       "metadata": {},
       "output_type": "pyout",
       "text": [
        "<module 'PyMBVParticleFilter' from '/home/mad/Development/lib/mbv_ri/lib/PyMBVParticleFilter.so'>"
       ]
      }
     ],
     "input": [
      "import PyMBVCore\n",
      "import PyMBVParticleFilter as pf"
     ],
     "language": "python",
     "prompt_number": 1
    },
    {
     "cell_type": "code",
     "execution_count": null,
     "metadata": {},
     "outputs": [],
     "input": [
      "ms = pf.Model3dSkinned()"
     ],
     "language": "python",
     "prompt_number": 2
    },
    {
     "cell_type": "code",
     "execution_count": null,
     "metadata": {},
     "outputs": [],
     "input": [
      "ms.load('../models3d/arm3.xml')"
     ],
     "language": "python",
     "prompt_number": 3
    },
    {
     "cell_type": "code",
     "execution_count": null,
     "metadata": {},
     "outputs": [
      {
       "stream": "stdout",
       "output_type": "stream",
       "text": [
        "MTSkinned arm3 models3d/ models3d/arm3.dae\n",
        "models3d/arm3.btn models3d/arm3.bmesh 2 11\n",
        "[[ 0.        ]\n",
        " [ 0.        ]\n",
        " [ 0.        ]\n",
        " [ 0.        ]\n",
        " [ 0.        ]\n",
        " [ 0.        ]\n",
        " [-1.57079637]\n",
        " [-0.52359879]\n",
        " [-0.78539819]\n",
        " [-0.52359879]\n",
        " [-0.52359879]] [[ 0.        ]\n",
        " [ 0.        ]\n",
        " [ 0.        ]\n",
        " [ 0.        ]\n",
        " [ 0.        ]\n",
        " [ 0.        ]\n",
        " [ 1.57079637]\n",
        " [ 0.        ]\n",
        " [ 0.        ]\n",
        " [ 0.52359879]\n",
        " [ 1.57079637]] [[ 0.]\n",
        " [ 0.]\n",
        " [ 0.]\n",
        " [ 0.]\n",
        " [ 0.]\n",
        " [ 0.]\n",
        " [ 0.]\n",
        " [ 0.]\n",
        " [ 0.]\n",
        " [ 0.]\n",
        " [ 0.]]\n"
       ]
      }
     ],
     "input": [
      "print ms.model_type, ms.model_name, ms.model_path, ms.model_xml\n",
      "print ms.transform_node_filename, ms.mesh_filename, ms.n_bones, ms.n_state\n",
      "print ms.low_bounds.data, ms.high_bounds.data, ms.default_state.data"
     ],
     "language": "python",
     "prompt_number": 7
    },
    {
     "cell_type": "code",
     "execution_count": null,
     "metadata": {},
     "outputs": [],
     "input": [
      ""
     ],
     "language": "python"
    }
   ]
  }
 ],
 "cells": [],
 "metadata": {
  "name": ""
 },
 "nbformat": 4,
 "nbformat_minor": 0
}