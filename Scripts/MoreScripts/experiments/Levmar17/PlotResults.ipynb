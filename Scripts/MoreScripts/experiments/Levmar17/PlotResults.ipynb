{
 "metadata": {
  "name": "",
  "signature": "sha256:8132a1d02e49f182629f375b3d7391e4c43e1cc0fffd2eb5d90c3ebb52f565a9"
 },
 "nbformat": 3,
 "nbformat_minor": 0,
 "worksheets": [
  {
   "cells": [
    {
     "cell_type": "code",
     "collapsed": false,
     "input": [
      "import os\n",
      "import json\n",
      "import numpy as np\n",
      "import PythonModel3dTracker.Paths as Paths\n",
      "%matplotlib inline\n",
      "import matplotlib.pyplot as plt"
     ],
     "language": "python",
     "metadata": {},
     "outputs": [
      {
       "output_type": "stream",
       "stream": "stderr",
       "text": [
        "/usr/lib/python2.7/dist-packages/matplotlib/font_manager.py:273: UserWarning: Matplotlib is building the font cache using fc-list. This may take a moment.\n",
        "  warnings.warn('Matplotlib is building the font cache using fc-list. This may take a moment.')\n"
       ]
      }
     ],
     "prompt_number": 1
    },
    {
     "cell_type": "code",
     "collapsed": false,
     "input": [
      "# Loading Result Metrics from json file.\n",
      "input_dir = os.path.join(Paths.results, \"Human_tracking/Levmar/mhad_26dofs/\")\n",
      "results_json = os.path.join(input_dir, 'results_metrics_new.json')\n",
      "with open(results_json, 'r') as fp:\n",
      "    results_metrics = json.load(fp)"
     ],
     "language": "python",
     "metadata": {},
     "outputs": [],
     "prompt_number": 2
    },
    {
     "cell_type": "code",
     "collapsed": false,
     "input": [
      "x = range(10)\n",
      "y = range(10)\n",
      "plt.plot(x,y)\n",
      "plt.show()"
     ],
     "language": "python",
     "metadata": {},
     "outputs": [
      {
       "metadata": {},
       "output_type": "display_data",
       "png": "[encoded data removed]",
       "text": [
        "<matplotlib.figure.Figure at 0x7fbe95293f50>"
       ]
      }
     ],
     "prompt_number": 8
    },
    {
     "cell_type": "code",
     "collapsed": false,
     "input": [
      "dids = []\n",
      "for f,data in results_metrics.items():\n",
      "    cur_did = str(data[\"did\"])\n",
      "    if cur_did not in dids: dids.append(cur_did)\n",
      "print dids\n",
      "    \n",
      "for did in dids:\n",
      "    cur_did_errors = []\n",
      "    cur_filenames = []\n",
      "    for f,data in results_metrics.items():\n",
      "        cur_did = str(data[\"did\"])        \n",
      "        if cur_did == did: \n",
      "            cur_did_errors.append(data[\"seq_dist_corr\"])\n",
      "            cur_filenames.append(f)\n",
      "    min_index = np.argmin(cur_did_errors)\n",
      "    min_filename = cur_filenames[min_index]\n",
      "    print did, min(cur_did_errors), min_filename"
     ],
     "language": "python",
     "metadata": {},
     "outputs": [
      {
       "output_type": "stream",
       "stream": "stdout",
       "text": [
        "['mhad_s11_a04', 'mhad_s06_a04', 'mhad_s05_a04', 'mhad_s10_a04', 'mhad_s09_a09', 'mhad_s09_a01', 'mhad_s07_a04', 'mhad_s09_a11', 'mhad_s01_a04', 'mhad_s09_a06', 'mhad_s09_a08', 'mhad_s12_a04', 'mhad_s09_a03', 'mhad_s09_a10', 'mhad_s09_a05', 'mhad_s08_a04', 'mhad_s02_a04', 'mhad_s03_a04', 'mhad_s09_a04', 'mhad_s09_a07', 'mhad_s04_a04', 'mhad_s09_a02']\n",
        "mhad_s11_a04 73.7732065848 mhad_s11_a04_mh_body_male_custom_p50_lp50_ransac[0.05, 0.9].json\n",
        "mhad_s06_a04 67.8274471997 mhad_s06_a04_mh_body_male_custom_p50_lp50_ransac[0.0, 0.9].json\n",
        "mhad_s05_a04 90.6681433869 mhad_s05_a04_mh_body_male_custom_1050_p50_lp50_ransac[0.0, 0.7].json\n",
        "mhad_s10_a04 54.0095981446 mhad_s10_a04_mh_body_male_custom_p50_lp50_ransac[0.05, 0.9].json\n",
        "mhad_s09_a09 54.048134033 mhad_s09_a09_mh_body_male_custom_0950_p50_lp50_ransac[0.15, 0.45].json\n",
        "mhad_s09_a01 70.3804047014 mhad_s09_a01_mh_body_male_custom_0950_p50_lp50_ransac[0.05, 0.9].json\n",
        "mhad_s07_a04 74.3663370115 mhad_s07_a04_mh_body_male_custom_0900_p50_lp50_ransac[0.05, 0.9].json\n",
        "mhad_s09_a11 48.6644649544 mhad_s09_a11_mh_body_male_custom_0950_p50_lp50_ransac[0.0, 0.7].json\n",
        "mhad_s01_a04 67.1925018708 mhad_s01_a04_mh_body_male_custom_0950_p50_lp50_ransac[0.05, 0.9].json\n",
        "mhad_s09_a06 44.3470018695 mhad_s09_a06_mh_body_male_custom_0950_p50_lp50_ransac[0.3, 0.45].json\n",
        "mhad_s09_a08 75.1279413249 mhad_s09_a08_mh_body_male_custom_0950_p50_lp50_ransac[0.0, 0.7].json\n",
        "mhad_s12_a04 76.8742967696 mhad_s12_a04_mh_body_male_custom_p50_lp50_ransac[0.0, 0.6].json\n",
        "mhad_s09_a03 164.042184456 mhad_s09_a03_mh_body_male_custom_0950_p50_lp50_ransac[0.05, 0.9].json\n",
        "mhad_s09_a10 59.721863737 mhad_s09_a10_mh_body_male_custom_0950_p50_lp50_ransac[0.0, 0.3].json\n",
        "mhad_s09_a05 60.5223018432 mhad_s09_a05_mh_body_male_custom_0950_p50_lp50_ransac[0.3, 0.45].json\n",
        "mhad_s08_a04 58.3119435546 mhad_s08_a04_mh_body_male_custom_0950_p50_lp50_ransac[0.05, 0.6].json\n",
        "mhad_s02_a04 63.338230018 mhad_s02_a04_mh_body_male_custom_1050_p50_lp50_ransac[0.15, 0.6].json\n",
        "mhad_s03_a04 83.1000295341 mhad_s03_a04_mh_body_male_custom_1100_p50_lp50_ransac[0.0, 0.8].json\n",
        "mhad_s09_a04 97.9341313016 mhad_s09_a04_mh_body_male_custom_0950_p50_lp50_ransac[0.0, 0.9].json\n",
        "mhad_s09_a07 43.1084587421 mhad_s09_a07_mh_body_male_custom_0950_p50_lp50_ransac[0.0, 0.6].json\n",
        "mhad_s04_a04 77.6370652025 mhad_s04_a04_mh_body_male_custom_0950_p50_lp50_ransac[0.05, 0.9].json\n",
        "mhad_s09_a02 69.4288126207 mhad_s09_a02_mh_body_male_custom_0950_p50_lp50_ransac[0.0, 0.8].json\n"
       ]
      }
     ],
     "prompt_number": 4
    },
    {
     "cell_type": "code",
     "collapsed": false,
     "input": [],
     "language": "python",
     "metadata": {},
     "outputs": []
    }
   ],
   "metadata": {}
  }
 ]
}