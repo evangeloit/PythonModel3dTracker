{
 "metadata": {
  "name": ""
 },
 "nbformat": 3,
 "nbformat_minor": 0,
 "worksheets": [
  {
   "cells": [
    {
     "cell_type": "code",
     "collapsed": false,
     "input": [
      "import numpy as np\n",
      "from scipy import signal"
     ],
     "language": "python",
     "metadata": {},
     "outputs": [],
     "prompt_number": 2
    },
    {
     "cell_type": "code",
     "collapsed": false,
     "input": [
      "input_res_path = 'rs/seq0_hmf_60fps_03.txt'\n",
      "output_res_path = 'rs/seq0_hmf_60fps_03_smooth.txt'\n",
      "res_in = np.loadtxt(input_res_path, dtype=float, comments='#', delimiter=',') \n",
      "res_in_first = np.copy(res_in[0])"
     ],
     "language": "python",
     "metadata": {},
     "outputs": [
      {
       "ename": "NameError",
       "evalue": "name 'np' is not defined",
       "output_type": "pyerr",
       "traceback": [
        "\u001b[0;31m---------------------------------------------------------------------------\u001b[0m\n\u001b[0;31mNameError\u001b[0m                                 Traceback (most recent call last)",
        "\u001b[0;32m<ipython-input-1-e028b6277cdf>\u001b[0m in \u001b[0;36m<module>\u001b[0;34m()\u001b[0m\n\u001b[1;32m      1\u001b[0m \u001b[0minput_res_path\u001b[0m \u001b[0;34m=\u001b[0m \u001b[0;34m'rs/seq0_hmf_60fps_03.txt'\u001b[0m\u001b[0;34m\u001b[0m\u001b[0m\n\u001b[1;32m      2\u001b[0m \u001b[0moutput_res_path\u001b[0m \u001b[0;34m=\u001b[0m \u001b[0;34m'rs/seq0_hmf_60fps_03_smooth.txt'\u001b[0m\u001b[0;34m\u001b[0m\u001b[0m\n\u001b[0;32m----> 3\u001b[0;31m \u001b[0mres_in\u001b[0m \u001b[0;34m=\u001b[0m \u001b[0mnp\u001b[0m\u001b[0;34m.\u001b[0m\u001b[0mloadtxt\u001b[0m\u001b[0;34m(\u001b[0m\u001b[0minput_res_path\u001b[0m\u001b[0;34m,\u001b[0m \u001b[0mdtype\u001b[0m\u001b[0;34m=\u001b[0m\u001b[0mfloat\u001b[0m\u001b[0;34m,\u001b[0m \u001b[0mcomments\u001b[0m\u001b[0;34m=\u001b[0m\u001b[0;34m'#'\u001b[0m\u001b[0;34m,\u001b[0m \u001b[0mdelimiter\u001b[0m\u001b[0;34m=\u001b[0m\u001b[0;34m','\u001b[0m\u001b[0;34m)\u001b[0m\u001b[0;34m\u001b[0m\u001b[0m\n\u001b[0m\u001b[1;32m      4\u001b[0m \u001b[0mres_in_first\u001b[0m \u001b[0;34m=\u001b[0m \u001b[0mnp\u001b[0m\u001b[0;34m.\u001b[0m\u001b[0mcopy\u001b[0m\u001b[0;34m(\u001b[0m\u001b[0mres_in\u001b[0m\u001b[0;34m[\u001b[0m\u001b[0;36m0\u001b[0m\u001b[0;34m]\u001b[0m\u001b[0;34m)\u001b[0m\u001b[0;34m\u001b[0m\u001b[0m\n",
        "\u001b[0;31mNameError\u001b[0m: name 'np' is not defined"
       ]
      }
     ],
     "prompt_number": "*"
    },
    {
     "cell_type": "code",
     "collapsed": false,
     "input": [
      "trans_in = np.transpose(res_in)\n",
      "print len(trans_in)"
     ],
     "language": "python",
     "metadata": {},
     "outputs": [
      {
       "output_type": "stream",
       "stream": "stdout",
       "text": [
        "38\n"
       ]
      }
     ],
     "prompt_number": 94
    },
    {
     "cell_type": "code",
     "collapsed": false,
     "input": [
      "w = signal.gaussian(7,std=1)\n",
      "w = w / w.sum()\n",
      "print w"
     ],
     "language": "python",
     "metadata": {},
     "outputs": [
      {
       "output_type": "stream",
       "stream": "stdout",
       "text": [
        "[ 0.00443305  0.05400558  0.24203623  0.39905028  0.24203623  0.05400558\n",
        "  0.00443305]\n"
       ]
      }
     ],
     "prompt_number": 95
    },
    {
     "cell_type": "code",
     "collapsed": false,
     "input": [
      "trans_out = trans_in\n",
      "for dim in range(len(trans_in)):\n",
      "    trans_out[dim] = signal.convolve(trans_in[dim],w,mode='same')"
     ],
     "language": "python",
     "metadata": {},
     "outputs": [],
     "prompt_number": 96
    },
    {
     "cell_type": "code",
     "collapsed": false,
     "input": [
      "res_out = np.transpose(trans_out)\n",
      "res_out[0] = res_in_first\n",
      "print res_out[0]\n"
     ],
     "language": "python",
     "metadata": {},
     "outputs": [
      {
       "output_type": "stream",
       "stream": "stdout",
       "text": [
        "[  7.46307000e+01   1.04137000e+02  -9.50489000e+02  -2.74333000e-02\n",
        "  -1.85905000e-01   7.90006000e-01   2.34256000e-01   0.00000000e+00\n",
        "   1.57000000e+00   0.00000000e+00   0.00000000e+00   0.00000000e+00\n",
        "   2.80000000e+00   0.00000000e+00   0.00000000e+00   0.00000000e+00\n",
        "   1.57000000e+00   0.00000000e+00   0.00000000e+00   0.00000000e+00\n",
        "   1.57000000e+00   0.00000000e+00   0.00000000e+00   0.00000000e+00\n",
        "   1.57000000e+00   0.00000000e+00   0.00000000e+00   1.10000000e+00\n",
        "   1.10000000e+00   1.10000000e+00   1.10000000e+00   1.10000000e+00\n",
        "   1.10000000e+00   1.10000000e+00   1.10000000e+00   1.10000000e+00\n",
        "   1.10000000e+00   1.10000000e+00]\n"
       ]
      }
     ],
     "prompt_number": 97
    },
    {
     "cell_type": "code",
     "collapsed": false,
     "input": [
      "np.savetxt(output_res_path,res_out,delimiter=',')"
     ],
     "language": "python",
     "metadata": {},
     "outputs": [],
     "prompt_number": 98
    },
    {
     "cell_type": "code",
     "collapsed": false,
     "input": [],
     "language": "python",
     "metadata": {},
     "outputs": []
    }
   ],
   "metadata": {}
  }
 ]
}