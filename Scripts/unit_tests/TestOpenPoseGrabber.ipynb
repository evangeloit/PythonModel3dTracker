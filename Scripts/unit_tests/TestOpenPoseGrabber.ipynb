{
 "metadata": {
  "name": "",
  "signature": "sha256:d442281cca9d4e9faf29aeb2c2ce70c88b6b576d8cec718329fa63fa2ed4ddba"
 },
 "nbformat": 3,
 "nbformat_minor": 0,
 "worksheets": [
  {
   "cells": [
    {
     "cell_type": "code",
     "collapsed": false,
     "input": [
      "import cv2\n",
      "import numpy as np\n",
      "\n",
      "import PythonModel3dTracker.PyMBVAll as mbv\n",
      "import PythonModel3dTracker.Paths as Paths\n",
      "import PythonModel3dTracker.PythonModelTracker.DatasetInfo as dsi\n",
      "import PythonModel3dTracker.PythonModelTracker.OpenPoseGrabber as OPG\n",
      "import PythonModel3dTracker.PythonModelTracker.LandmarksGrabber as LG\n",
      "import PythonModel3dTracker.PythonModelTracker.AutoGrabber as AutoGrabber\n",
      "import PythonModel3dTracker.Paths as Paths\n",
      "import BlenderMBV.BlenderMBVLib.RenderingUtils as ru\n",
      "import PythonModel3dTracker.PythonModelTracker.Model3dUtils as M3DU\n",
      "\n"
     ],
     "language": "python",
     "metadata": {},
     "outputs": [
      {
       "output_type": "stream",
       "stream": "stderr",
       "text": [
        "/home/mad/Development/catkin_ws/src/ms1_perception/src/PythonModel3dTracker/PyMBVAll.py:1: RuntimeWarning: to-Python converter for std::vector<float, std::allocator<float> > already registered; second conversion method ignored.\n",
        "  import PyMBVCore as Core\n",
        "/home/mad/Development/catkin_ws/src/ms1_perception/src/PythonModel3dTracker/PyMBVAll.py:6: RuntimeWarning: to-Python converter for boost::function<void (cv::Mat_<double>&)> already registered; second conversion method ignored.\n",
        "  import PyMBVParticleFilter as PF\n",
        "/home/mad/Development/catkin_ws/src/ms1_perception/src/PythonModel3dTracker/PythonModelTracker/OpenPoseGrabber.py:2: RuntimeWarning: to-Python converter for cv::Mat already registered; second conversion method ignored.\n",
        "  import PyOpenPose as OP\n",
        "/home/mad/Development/catkin_ws/src/ms1_perception/src/PythonModel3dTracker/PythonModelTracker/OpenPoseGrabber.py:2: RuntimeWarning: to-Python converter for cv::Size_<int> already registered; second conversion method ignored.\n",
        "  import PyOpenPose as OP\n",
        "/home/mad/Development/catkin_ws/src/ms1_perception/src/PythonModel3dTracker/PythonModelTracker/OpenPoseGrabber.py:2: RuntimeWarning: to-Python converter for std::vector<cv::Mat, std::allocator<cv::Mat> > already registered; second conversion method ignored.\n",
        "  import PyOpenPose as OP\n",
        "/home/mad/Development/catkin_ws/src/ms1_perception/src/PythonModel3dTracker/PythonModelTracker/LandmarksGrabber.py:3: RuntimeWarning: to-Python converter for boost::shared_ptr<MBV::HandTracking::ObjectiveResultsCombination> already registered; second conversion method ignored.\n",
        "  import PyModel3dTracker as mt\n"
       ]
      },
      {
       "output_type": "stream",
       "stream": "stderr",
       "text": [
        "/home/mad/Development/catkin_ws/src/ms1_perception/src/PythonModel3dTracker/PythonModelTracker/LandmarksGrabber.py:3: RuntimeWarning: to-Python converter for std::__cxx11::list<unsigned long, std::allocator<unsigned long> > already registered; second conversion method ignored.\n",
        "  import PyModel3dTracker as mt\n"
       ]
      }
     ],
     "prompt_number": 1
    },
    {
     "cell_type": "code",
     "collapsed": false,
     "input": [
      "dataset = 'mhad_s01_a04'\n",
      "params_ds = dsi.DatasetInfo()\n",
      "params_ds.generate(dataset)\n",
      "grabber = AutoGrabber.create_di(params_ds)\n",
      "opg = OPG.OpenPoseGrabber(model_op_path=Paths.models_openpose)"
     ],
     "language": "python",
     "metadata": {},
     "outputs": [],
     "prompt_number": 2
    },
    {
     "cell_type": "code",
     "collapsed": false,
     "input": [
      "images, calibs = grabber.grab()\n",
      "point_names, keypoints3d, keypoints2d, clb = opg.acquire(images, calibs)"
     ],
     "language": "python",
     "metadata": {},
     "outputs": [
      {
       "output_type": "stream",
       "stream": "stdout",
       "text": [
        "person 0 Nose [ 211.9203949   122.07077026    0.85284293]\n",
        "person 0 neck [ 229.94136047  171.96713257    0.90738583]\n",
        "person 0 R.UArm [ 202.04629517  170.08084106    0.87641203]\n",
        "person 0 R.LArm [ 197.9125061   218.02828979    0.867504  ]\n",
        "person 0 R.Wrist [ 185.99835205  261.90991211    0.85892111]\n",
        "person 0 L.UArm [ 250.01765442  172.02742004    0.84517479]\n",
        "person 0 L.LArm [ 262.00033569  228.01997375    0.87854445]\n",
        "person 0 L.Wrist [ 258.03451538  268.04769897    0.82357323]\n",
        "person 0 R.ULeg [ 208.01150513  265.99331665    0.78092176]\n",
        "person 0 R.LLeg [ 213.90014648  331.97763062    0.86796278]\n",
        "person 0 R.Foot [ 211.99385071  385.95449829    0.86154664]\n",
        "person 0 L.ULeg [ 242.00205994  265.99411011    0.78002179]\n",
        "person 0 L.LLeg [ 250.06027222  337.97387695    0.81015635]\n",
        "person 0 L.Foot [ 261.98608398  396.03390503    0.8626039 ]\n",
        "person 0 R.eye [ 204.03910828  119.92332458    0.81368858]\n",
        "person 0 L.eye [ 216.02323914  118.0897522     0.95728987]\n",
        "person 0 R.ear [ 0.  0.  0.]\n",
        "person 0 L.ear [ 234.04742432  125.99485779    0.87714827]\n"
       ]
      },
      {
       "output_type": "stream",
       "stream": "stderr",
       "text": [
        "/home/mad/Development/catkin_ws/src/ms1_perception/src/PythonModel3dTracker/PythonModelTracker/OpenPoseGrabber.py:154: VisibleDeprecationWarning: using a non-integer number instead of an integer will result in an error in the future\n",
        "  max(x-w, 0):min(x+w, width-1)])\n"
       ]
      }
     ],
     "prompt_number": 3
    },
    {
     "cell_type": "code",
     "collapsed": false,
     "input": [
      "model_name = \"mh_body_male_custom\"\n",
      "model3d = mbv.PF.Model3dMeta.create(str(Paths.model3d_dict[model_name][\"path\"]))\n",
      "model3d.parts.genBonesMap()"
     ],
     "language": "python",
     "metadata": {},
     "outputs": [],
     "prompt_number": 4
    },
    {
     "cell_type": "code",
     "collapsed": false,
     "input": [
      "  \n",
      "     \n",
      "#point_names = OPG.OpenPoseGrabber.landmark_names[\"COCO\"]\n",
      "interpolate_set = [\"R.UArm\", \"R.LArm\",\"R.ULeg\", \"R.LLeg\",\"L.UArm\", \"L.LArm\",\"L.ULeg\", \"L.LLeg\"]\n",
      "point_names_, keypoints3d_, keypoints2d_ = \\\n",
      "M3DU.GetInterpKeypointsModel(\"COCO\", model3d, point_names, keypoints3d, keypoints2d, interpolate_set, 3)\n",
      "\n",
      "for p,k3,k2 in zip(point_names_, keypoints3d_, keypoints2d_):\n",
      "    print p, k3, k2\n",
      "\n",
      "        "
     ],
     "language": "python",
     "metadata": {},
     "outputs": [
      {
       "output_type": "stream",
       "stream": "stdout",
       "text": [
        "Nose [-491.2779846191406, -622.9931030273438, 2543.0] [211.92039489746094, 122.07077026367188]\n",
        "neck [-420.6650695800781, -399.4877624511719, 2641.0] [229.9413604736328, 171.96713256835938]\n",
        "R.Wrist [-671.1965942382812, 49.02910232543945, 2774.0] [185.99835205078125, 261.909912109375]\n",
        "L.Wrist [-265.85247802734375, 72.9491958618164, 2498.0] [258.0345153808594, 268.0476989746094]\n",
        "R.Foot [-574.0346069335938, 745.3548583984375, 2973.5] [211.9938507080078, 385.9544982910156]\n",
        "L.Foot [-274.8990783691406, 748.6732788085938, 2777.0] [261.986083984375, 396.0339050292969]\n",
        "R.eye [-531.8988037109375, -636.736572265625, 2557.0] [204.0391082763672, 119.92332458496094]\n",
        "L.eye [-470.90576171875, -640.99853515625, 2539.0] [216.0232391357422, 118.08975219726562]\n",
        "R.ear [0.0, 0.0, 0.0] [0.0, 0.0]\n",
        "L.ear [-386.0158386230469, -605.2001953125, 2547.0] [234.04742431640625, 125.99485778808594]\n",
        "R.UArm_00 [-582.1451416015625, -425.56396484375, 2749.0] [202.04629516601562, 170.08084106445312]\n",
        "R.UArm_01 [-591.0283813476562, -343.5578308105469, 2757.0] [200.66836547851562, 186.06332397460938]\n",
        "R.UArm_02 [-599.9115600585938, -261.55169677734375, 2765.0] [199.29043579101562, 202.04580688476562]\n",
        "R.LArm_00 [-608.7947998046875, -179.54554748535156, 2773.0] [197.91250610351562, 218.02828979492188]\n",
        "R.LArm_01 [-629.5953979492188, -103.35399627685547, 2773.333251953125] [193.9411163330078, 232.65550231933594]\n",
        "R.LArm_02 [-650.39599609375, -27.162446975708008, 2773.666748046875] [189.96974182128906, 247.28269958496094]\n",
        "R.ULeg_00 [-543.2704467773438, 68.65776062011719, 2709.0] [208.01150512695312, 265.9933166503906]\n",
        "R.ULeg_01 [-540.5286254882812, 186.29576110839844, 2747.333251953125] [209.97438049316406, 287.98809814453125]\n",
        "R.ULeg_02 [-537.7868041992188, 303.93377685546875, 2785.666748046875] [211.93727111816406, 309.98284912109375]\n",
        "R.LLeg_00 [-535.0449829101562, 421.57177734375, 2824.0] [213.900146484375, 331.9776306152344]\n",
        "R.LLeg_01 [-548.04150390625, 529.4994506835938, 2873.833251953125] [213.26470947265625, 349.96990966796875]\n",
        "R.LLeg_02 [-561.0380859375, 637.4271850585938, 2923.666748046875] [212.62928771972656, 367.96221923828125]\n",
        "L.UArm_00 [-313.00872802734375, -389.3639221191406, 2576.0] [250.0176544189453, 172.0274200439453]\n",
        "L.UArm_01 [-292.92431640625, -298.720703125, 2568.666748046875] [254.0118865966797, 190.6916046142578]\n",
        "L.UArm_02 [-272.8399353027344, -208.0774688720703, 2561.333251953125] [258.006103515625, 209.3557891845703]\n",
        "L.LArm_00 [-252.75552368164062, -117.43423461914062, 2554.0] [262.0003356933594, 228.0199737548828]\n",
        "L.LArm_01 [-257.1211853027344, -53.97309112548828, 2535.333251953125] [260.67840576171875, 241.362548828125]\n",
        "L.LArm_02 [-261.48681640625, 9.488052368164062, 2516.666748046875] [259.3564453125, 254.7051239013672]\n",
        "L.ULeg_00 [-362.1018981933594, 67.19174194335938, 2651.0] [242.00205993652344, 265.9941101074219]\n",
        "L.ULeg_01 [-351.456787109375, 190.30128479003906, 2673.666748046875] [244.68812561035156, 289.98736572265625]\n",
        "L.ULeg_02 [-340.8116760253906, 313.41082763671875, 2696.333251953125] [247.37420654296875, 313.9806213378906]\n",
        "L.LLeg_00 [-330.16656494140625, 436.5203857421875, 2719.0] [250.06027221679688, 337.973876953125]\n",
        "L.LLeg_01 [-311.74407958984375, 540.5713500976562, 2738.333251953125] [254.03553771972656, 357.32720947265625]\n",
        "L.LLeg_02 [-293.3215637207031, 644.622314453125, 2757.666748046875] [258.01080322265625, 376.6805725097656]\n"
       ]
      }
     ],
     "prompt_number": 6
    },
    {
     "cell_type": "code",
     "collapsed": false,
     "input": [
      "viz = images[1]\n",
      "viz = ru.disp_points(keypoints2d_, viz)\n",
      "viz_op= opg.op.render(viz)\n",
      "cv2.imshow(\"viz\",viz_op)\n",
      "cv2.waitKey(0)\n",
      "cv2.destroyWindow(\"viz\")"
     ],
     "language": "python",
     "metadata": {},
     "outputs": [],
     "prompt_number": 8
    },
    {
     "cell_type": "code",
     "collapsed": false,
     "input": [],
     "language": "python",
     "metadata": {},
     "outputs": [
      {
       "output_type": "stream",
       "stream": "stdout",
       "text": [
        "Nose [-491.2779846191406, -622.9931030273438, 2543.0] [211.92039489746094, 122.07077026367188]\n",
        "neck [-420.6650695800781, -399.4877624511719, 2641.0] [229.9413604736328, 171.96713256835938]\n",
        "R.Wrist [-671.1965942382812, 49.02910232543945, 2774.0] [185.99835205078125, 261.909912109375]\n",
        "L.Wrist [-265.85247802734375, 72.9491958618164, 2498.0] [258.0345153808594, 268.0476989746094]\n",
        "R.Foot [-574.0346069335938, 745.3548583984375, 2973.5] [211.9938507080078, 385.9544982910156]\n",
        "L.Foot [-274.8990783691406, 748.6732788085938, 2777.0] [261.986083984375, 396.0339050292969]\n",
        "R.eye [-531.8988037109375, -636.736572265625, 2557.0] [204.0391082763672, 119.92332458496094]\n",
        "L.eye [-470.90576171875, -640.99853515625, 2539.0] [216.0232391357422, 118.08975219726562]\n",
        "R.ear [0.0, 0.0, 0.0] [0.0, 0.0]\n",
        "L.ear [-386.0158386230469, -605.2001953125, 2547.0] [234.04742431640625, 125.99485778808594]\n",
        "R.UArm_00 [-582.1451416015625, -425.56396484375, 2749.0] [202.04629516601562, 170.08084106445312]\n",
        "R.UArm_01 [-587.47509765625, -376.36029052734375, 2753.800048828125] [201.21954345703125, 179.6703338623047]\n",
        "R.UArm_02 [-592.8049926757812, -327.1565856933594, 2758.60009765625] [200.3927764892578, 189.25982666015625]\n",
        "R.UArm_03 [-598.1349487304688, -277.9529113769531, 2763.39990234375] [199.56602478027344, 198.84930419921875]\n",
        "R.UArm_04 [-603.46484375, -228.74923706054688, 2768.199951171875] [198.7392578125, 208.4387969970703]\n",
        "R.LArm_00 [-608.7947998046875, -179.54554748535156, 2773.0] [197.91250610351562, 218.02828979492188]\n",
        "R.LArm_01 [-621.275146484375, -133.8306121826172, 2773.199951171875] [195.52967834472656, 226.8046112060547]\n",
        "R.LArm_02 [-633.7554931640625, -88.11568450927734, 2773.39990234375] [193.1468505859375, 235.5809326171875]\n",
        "R.LArm_03 [-646.2359008789062, -42.4007568359375, 2773.60009765625] [190.76400756835938, 244.35726928710938]\n",
        "R.LArm_04 [-658.7162475585938, 3.3141722679138184, 2773.800048828125] [188.3811798095703, 253.1335906982422]\n",
        "R.ULeg_00 [-543.2704467773438, 68.65776062011719, 2709.0] [208.01150512695312, 265.9933166503906]\n",
        "R.ULeg_01 [-541.6253662109375, 139.24057006835938, 2732.0] [209.18923950195312, 279.190185546875]\n",
        "R.ULeg_02 [-539.9802856445312, 209.8233642578125, 2755.0] [210.36695861816406, 292.3870544433594]\n",
        "R.ULeg_03 [-538.3351440429688, 280.4061584472656, 2778.0] [211.54469299316406, 305.5838928222656]\n",
        "R.ULeg_04 [-536.6900634765625, 350.9889831542969, 2801.0] [212.722412109375, 318.78076171875]\n",
        "R.LLeg_00 [-535.0449829101562, 421.57177734375, 2824.0] [213.900146484375, 331.9776306152344]\n",
        "R.LLeg_01 [-542.8428955078125, 486.3283996582031, 2853.89990234375] [213.51889038085938, 342.77301025390625]\n",
        "R.LLeg_02 [-550.6408081054688, 551.0850219726562, 2883.800048828125] [213.13763427734375, 353.5683898925781]\n",
        "R.LLeg_03 [-558.4387817382812, 615.8416137695312, 2913.699951171875] [212.75636291503906, 364.3637390136719]\n",
        "R.LLeg_04 [-566.2366943359375, 680.5982666015625, 2943.60009765625] [212.37510681152344, 375.15911865234375]\n",
        "L.UArm_00 [-313.00872802734375, -389.3639221191406, 2576.0] [250.0176544189453, 172.0274200439453]\n",
        "L.UArm_01 [-300.9580993652344, -334.9779968261719, 2571.60009765625] [252.4141845703125, 183.22593688964844]\n",
        "L.UArm_02 [-288.9074401855469, -280.592041015625, 2567.199951171875] [254.81072998046875, 194.4244384765625]\n",
        "L.UArm_03 [-276.8568115234375, -226.20611572265625, 2562.800048828125] [257.207275390625, 205.62295532226562]\n",
        "L.UArm_04 [-264.80615234375, -171.82017517089844, 2558.39990234375] [259.6037902832031, 216.8214569091797]\n",
        "L.LArm_00 [-252.75552368164062, -117.43423461914062, 2554.0] [262.0003356933594, 228.0199737548828]\n",
        "L.LArm_01 [-255.37490844726562, -79.35755157470703, 2542.800048828125] [261.2071838378906, 236.0255126953125]\n",
        "L.LArm_02 [-257.9942932128906, -41.280860900878906, 2531.60009765625] [260.41400146484375, 244.03106689453125]\n",
        "L.LArm_03 [-260.61370849609375, -3.204176425933838, 2520.39990234375] [259.620849609375, 252.03660583496094]\n",
        "L.LArm_04 [-263.23309326171875, 34.87250900268555, 2509.199951171875] [258.8276672363281, 260.0421447753906]\n",
        "L.ULeg_00 [-362.1018981933594, 67.19174194335938, 2651.0] [242.00205993652344, 265.9941101074219]\n",
        "L.ULeg_01 [-355.71484375, 141.05746459960938, 2664.60009765625] [243.61370849609375, 280.39007568359375]\n",
        "L.ULeg_02 [-349.3277587890625, 214.92320251464844, 2678.199951171875] [245.225341796875, 294.7860107421875]\n",
        "L.ULeg_03 [-342.9407043457031, 288.7889404296875, 2691.800048828125] [246.8369903564453, 309.1819763183594]\n",
        "L.ULeg_04 [-336.5536193847656, 362.6546630859375, 2705.39990234375] [248.44862365722656, 323.5779113769531]\n",
        "L.LLeg_00 [-330.16656494140625, 436.5203857421875, 2719.0] [250.06027221679688, 337.973876953125]\n",
        "L.LLeg_01 [-319.1130676269531, 498.9509582519531, 2730.60009765625] [252.4454345703125, 349.58587646484375]\n",
        "L.LLeg_02 [-308.0595703125, 561.3815307617188, 2742.199951171875] [254.83059692382812, 361.1978759765625]\n",
        "L.LLeg_03 [-297.0060729980469, 623.8121337890625, 2753.800048828125] [257.21575927734375, 372.8099060058594]\n",
        "L.LLeg_04 [-285.95257568359375, 686.24267578125, 2765.39990234375] [259.6009216308594, 384.4219055175781]\n"
       ]
      }
     ],
     "prompt_number": 33
    },
    {
     "cell_type": "code",
     "collapsed": false,
     "input": [],
     "language": "python",
     "metadata": {},
     "outputs": []
    }
   ],
   "metadata": {}
  }
 ]
}