{
 "metadata": {
  "name": "",
  "signature": "sha256:26d77a09469ba82bbe26046df570c7c6c06f3dfa51c60c27b4b59f094c076a83"
 },
 "nbformat": 3,
 "nbformat_minor": 0,
 "worksheets": [
  {
   "cells": [
    {
     "cell_type": "code",
     "collapsed": false,
     "input": [
      "import numpy as np\n",
      "np.set_printoptions(precision=1, suppress = True)\n",
      "import PythonModel3dTracker.ObjectDetection.RigidObjectPosest3D as rop\n",
      "import BlenderMBV.BlenderMBVLib.AngleTransformations as at"
     ],
     "language": "python",
     "metadata": {},
     "outputs": [
      {
       "output_type": "stream",
       "stream": "stderr",
       "text": [
        "/home/mad/Development/catkin_ws/src/ms1_perception/src/BlenderMBV/BlenderMBVLib/AngleTransformations.py:1888: UserWarning: failed to import module _transformations\n",
        "  warnings.warn(\"failed to import module %s\" % name)\n"
       ]
      }
     ],
     "prompt_number": 1
    },
    {
     "cell_type": "code",
     "collapsed": false,
     "input": [
      "p = np.array([[0,0,0], [10,0,0], [10,0,10], [0,0,10]]).T\n",
      "Rt = at.compose_matrix(angles=[10,20,45], translate=[0,100,0])\n",
      "ph = rop.toHom(p)\n",
      "qh = np.dot(Rt, ph)\n",
      "q = rop.toCart(qh)\n",
      "Rtsvd = rop.CalcRigidTransformSVD(p, q)\n",
      "\n",
      "rs = {\"Nreps\": 5, \"dmax\": 30, \"Npoints\":3}\n",
      "Rtransac, _ = rop.CalcRigidTransformRansac(p, q,rs)"
     ],
     "language": "python",
     "metadata": {},
     "outputs": [],
     "prompt_number": 8
    },
    {
     "cell_type": "code",
     "collapsed": false,
     "input": [
      "print \"p:\\n\", p, \"\\n\"\n",
      "# print ph\n",
      "# print qh\n",
      "print \"q:\\n\",q, \"\\n\"\n",
      "print \"Rt gt p->q:\\n\", Rt, \"\\n\"\n",
      "print \"Rtsvd:\\n\",Rtsvd, \"\\n\"\n",
      "print \"Rtransac:\\n\",Rtransac, \"\\n\""
     ],
     "language": "python",
     "metadata": {},
     "outputs": [
      {
       "output_type": "stream",
       "stream": "stdout",
       "text": [
        "p:\n",
        "[[ 0 10 10  0]\n",
        " [ 0  0  0  0]\n",
        " [ 0  0 10 10]] \n",
        "\n",
        "q:\n",
        "[[   0.     2.1   -6.5   -8.7]\n",
        " [ 100.   103.5   99.8   96.3]\n",
        " [   0.    -9.1  -12.6   -3.4]] \n",
        "\n",
        "Rt gt p->q:\n",
        "[[   0.2    0.5   -0.9    0. ]\n",
        " [   0.3   -0.9   -0.4  100. ]\n",
        " [  -0.9   -0.2   -0.3    0. ]\n",
        " [   0.     0.     0.     1. ]] \n",
        "\n",
        "Rtsvd:\n",
        "[[   0.2    0.5   -0.9    0. ]\n",
        " [   0.3   -0.9   -0.4  100. ]\n",
        " [  -0.9   -0.2   -0.3   -0. ]\n",
        " [   0.     0.     0.     1. ]] \n",
        "\n",
        "Rtransac:\n",
        "[[   0.2    0.5   -0.9    0. ]\n",
        " [   0.3   -0.9   -0.4  100. ]\n",
        " [  -0.9   -0.2   -0.3   -0. ]\n",
        " [   0.     0.     0.     1. ]] \n",
        "\n"
       ]
      }
     ],
     "prompt_number": 10
    },
    {
     "cell_type": "code",
     "collapsed": false,
     "input": [
      "qrech = np.dot(Rtsvd, ph)\n",
      "qrec = rop.toCart(qrech)\n",
      "print \"SVD Transform Error:\\n\",q-qrec\n",
      "qrech = np.dot(Rtransac, ph)\n",
      "qrec = rop.toCart(qrech)\n",
      "print \"Ransac Transform Error:\\n\",q-qrec\n",
      "\n"
     ],
     "language": "python",
     "metadata": {},
     "outputs": [
      {
       "output_type": "stream",
       "stream": "stdout",
       "text": [
        "SVD Transform Error:\n",
        "[[-0.  0.  0. -0.]\n",
        " [ 0.  0. -0.  0.]\n",
        " [ 0.  0. -0.  0.]]\n",
        "Ransac Transform Error:\n",
        "[[-0.  0.  0. -0.]\n",
        " [ 0.  0. -0.  0.]\n",
        " [ 0.  0. -0.  0.]]\n"
       ]
      }
     ],
     "prompt_number": 7
    },
    {
     "cell_type": "code",
     "collapsed": false,
     "input": [],
     "language": "python",
     "metadata": {},
     "outputs": []
    }
   ],
   "metadata": {}
  }
 ]
}