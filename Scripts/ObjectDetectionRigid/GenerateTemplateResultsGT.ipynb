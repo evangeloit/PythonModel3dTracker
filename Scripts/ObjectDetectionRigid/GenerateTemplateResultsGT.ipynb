{
 "metadata": {
  "name": "",
  "signature": "sha256:e1abcca1118c7a10ee65a285785036538d73b40a7f990aff70747011706b0585"
 },
 "nbformat": 3,
 "nbformat_minor": 0,
 "worksheets": [
  {
   "cells": [
    {
     "cell_type": "code",
     "collapsed": false,
     "input": [
      "import BlenderMBV.BlenderMBVLib.AngleTransformations as AT\n",
      "import PythonModel3dTracker.PythonModelTracker.ModelTrackingResults as MTR\n",
      "import PythonModel3dTracker.Paths as Paths\n",
      "import os"
     ],
     "language": "python",
     "metadata": {},
     "outputs": [
      {
       "output_type": "stream",
       "stream": "stderr",
       "text": [
        "/home/mad/Development/catkin_ws/src/ms1_perception/src/BlenderMBV/BlenderMBVLib/AngleTransformations.py:1888: UserWarning: failed to import module _transformations\n",
        "  warnings.warn(\"failed to import module %s\" % name)\n"
       ]
      }
     ],
     "prompt_number": 1
    },
    {
     "cell_type": "code",
     "collapsed": false,
     "input": [
      "dataset = 'boxiw3_large'\n",
      "model_name = 'box'\n",
      "res = 'boxiw3_large_gt'\n",
      "results_txt = os.path.join(Paths.datasets, \"object_tracking/co4robots/{}.json\".format(res))\n",
      "results_txt_out = os.path.join(Paths.datasets, \"object_tracking/co4robots/{}_init.json\".format(res))\n",
      "position = [0,0,1000]\n",
      "size = [350.0, 162.25, 25.0]"
     ],
     "language": "python",
     "metadata": {},
     "outputs": [],
     "prompt_number": 15
    },
    {
     "cell_type": "code",
     "collapsed": false,
     "input": [
      "results = MTR.ModelTrackingResults()\n",
      "results.load(results_txt)\n",
      "model_name = results.models[0]\n"
     ],
     "language": "python",
     "metadata": {},
     "outputs": [],
     "prompt_number": 16
    },
    {
     "cell_type": "code",
     "collapsed": false,
     "input": [
      "for f in range(0, 6):\n",
      "    qnp = AT.quaternion_from_euler(0,0.95*f,0)\n",
      "    quaternion = [qnp[1],qnp[2],qnp[3],qnp[0]]\n",
      "    state = position + quaternion + size\n",
      "    results.states[f][model_name] = state\n",
      "    \n",
      "for f in range(6, 9):\n",
      "    qnp = AT.quaternion_from_euler(0,0.95*(f-6),0)\n",
      "    quaternion = [qnp[1],qnp[2],qnp[3],qnp[0]]\n",
      "    state = position + quaternion + size\n",
      "    results.states[f][model_name] = state\n",
      "    \n",
      "for f in range(10, 13):\n",
      "    qnp = AT.quaternion_from_euler(0,0.95*(f-7),0)\n",
      "    quaternion = [qnp[1],qnp[2],qnp[3],qnp[0]]\n",
      "    state = position + quaternion + size\n",
      "    results.states[f][model_name] = state\n",
      "    \n",
      "for f in range(13, 15):\n",
      "    qnp = AT.quaternion_from_euler(-1,3.14*(f-13),0)\n",
      "    quaternion = [qnp[1],qnp[2],qnp[3],qnp[0]]\n",
      "    state = position + quaternion + size\n",
      "    results.states[f][model_name] = state"
     ],
     "language": "python",
     "metadata": {},
     "outputs": [],
     "prompt_number": 19
    },
    {
     "cell_type": "code",
     "collapsed": false,
     "input": [
      "results.save(results_txt_out)"
     ],
     "language": "python",
     "metadata": {},
     "outputs": [
      {
       "output_type": "stream",
       "stream": "stdout",
       "text": [
        "Saving results to: </home/mad/Development/Projects/PythonModel3dTracker/Data/ds/object_tracking/co4robots/boxiw3_large_gt_init.json>\n"
       ]
      }
     ],
     "prompt_number": 20
    },
    {
     "cell_type": "code",
     "collapsed": false,
     "input": [],
     "language": "python",
     "metadata": {},
     "outputs": []
    }
   ],
   "metadata": {}
  }
 ]
}